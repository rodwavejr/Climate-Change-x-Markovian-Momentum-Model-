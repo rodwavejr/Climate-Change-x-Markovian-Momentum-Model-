{
 "cells": [
  {
   "cell_type": "markdown",
   "metadata": {},
   "source": [
    "# Climate and Commodity Data Analysis\n",
    "\n",
    "This notebook explores the relationship between climate variables and coffee commodity prices. It analyzes data from multiple coffee growing regions and investigates correlations between climate factors (like temperature, precipitation) and coffee price fluctuations.\n",
    "\n",
    "## Overview\n",
    "\n",
    "1. Data Loading\n",
    "2. Exploratory Data Analysis\n",
    "3. Time Series Analysis\n",
    "4. Regional Climate Comparison\n",
    "5. Climate-Price Correlation Analysis\n",
    "6. Signature Kernel Analysis\n",
    "7. Visualization and Insights"
   ]
  },
  {
   "cell_type": "code",
   "execution_count": null,
   "metadata": {},
   "outputs": [],
   "source": [
    "import pandas as pd\n",
    "import numpy as np\n",
    "import matplotlib.pyplot as plt\n",
    "import seaborn as sns\n",
    "from datetime import datetime\n",
    "import os\n",
    "\n",
    "# Set plot styling\n",
    "plt.style.use('seaborn-v0_8-whitegrid')\n",
    "sns.set_palette('viridis')\n",
    "\n",
    "# Set up plot parameters for better display\n",
    "plt.rcParams['figure.figsize'] = (12, 6)\n",
    "plt.rcParams['font.size'] = 12\n",
    "\n",
    "# Ignore warnings\n",
    "import warnings\n",
    "warnings.filterwarnings('ignore')"
   ]
  },
  {
   "cell_type": "markdown",
   "metadata": {},
   "source": [
    "## 1. Data Loading\n",
    "\n",
    "We'll load the combined climate and commodity dataset that was created using the `coffee_climate_monthly.py` script."
   ]
  },
  {
   "cell_type": "code",
   "execution_count": null,
   "metadata": {},
   "outputs": [],
   "source": [
    "# Load the joined dataset\n",
    "joined_data_path = \"climate_commodity_joined.csv\"\n",
    "\n",
    "if os.path.exists(joined_data_path):\n",
    "    df = pd.read_csv(joined_data_path)\n",
    "    df['Date'] = pd.to_datetime(df['Date'])\n",
    "    \n",
    "    # Display basic info\n",
    "    print(f\"Loaded {len(df)} records from {df['Year'].min()} to {df['Year'].max()}\")\n",
    "    print(f\"\\nRegions covered: {df['Region'].nunique()}\")\n",
    "    print(df['Region'].unique())\n",
    "    \n",
    "    # Display first few rows\n",
    "    df.head()\n",
    "else:\n",
    "    print(f\"Error: Combined dataset not found at {joined_data_path}\")\n",
    "    print(\"Please run the coffee_climate_monthly.py script first to generate the dataset.\")"
   ]
  },
  {
   "cell_type": "markdown",
   "metadata": {},
   "source": [
    "## 2. Exploratory Data Analysis\n",
    "\n",
    "Let's examine the structure and statistics of our combined dataset."
   ]
  },
  {
   "cell_type": "code",
   "execution_count": null,
   "metadata": {},
   "outputs": [],
   "source": [
    "# Display column information\n",
    "print(\"Dataset columns:\")\n",
    "for col in df.columns:\n",
    "    print(f\"- {col}\")\n",
    "\n",
    "# Display summary statistics\n",
    "print(\"\\nSummary statistics:\")\n",
    "df.describe()"
   ]
  },
  {
   "cell_type": "code",
   "execution_count": null,
   "metadata": {},
   "outputs": [],
   "source": [
    "# Check for missing values\n",
    "missing_data = df.isnull().sum()\n",
    "print(\"Missing values by column:\")\n",
    "print(missing_data[missing_data > 0])"
   ]
  },
  {
   "cell_type": "markdown",
   "metadata": {},
   "source": [
    "## 3. Time Series Analysis\n",
    "\n",
    "Let's explore how coffee prices and climate variables have changed over time."
   ]
  },
  {
   "cell_type": "code",
   "execution_count": null,
   "metadata": {},
   "outputs": [],
   "source": [
    "# Plot coffee price over time\n",
    "plt.figure(figsize=(14, 6))\n",
    "plt.plot(df['Date'].unique(), df.groupby('Date')['Coffee_Price'].mean(), marker='', linewidth=2)\n",
    "plt.title('Coffee Price Over Time')\n",
    "plt.xlabel('Date')\n",
    "plt.ylabel('Price (USD)')\n",
    "plt.grid(True)\n",
    "plt.tight_layout()\n",
    "plt.show()"
   ]
  },
  {
   "cell_type": "code",
   "execution_count": null,
   "metadata": {},
   "outputs": [],
   "source": [
    "# Plot temperature and precipitation over time for a specific region\n",
    "region = df['Region'].unique()[0]  # Use the first region as an example\n",
    "\n",
    "region_df = df[df['Region'] == region]\n",
    "\n",
    "fig, (ax1, ax2) = plt.subplots(2, 1, figsize=(14, 10), sharex=True)\n",
    "\n",
    "# Temperature\n",
    "ax1.plot(region_df['Date'], region_df['temperature_C'], color='red', linewidth=2)\n",
    "ax1.set_title(f'Temperature Over Time - {region}')\n",
    "ax1.set_ylabel('Temperature (°C)')\n",
    "ax1.grid(True)\n",
    "\n",
    "# Precipitation\n",
    "ax2.plot(region_df['Date'], region_df['precip_m'], color='blue', linewidth=2)\n",
    "ax2.set_title(f'Precipitation Over Time - {region}')\n",
    "ax2.set_xlabel('Date')\n",
    "ax2.set_ylabel('Precipitation (m)')\n",
    "ax2.grid(True)\n",
    "\n",
    "plt.tight_layout()\n",
    "plt.show()"
   ]
  },
  {
   "cell_type": "markdown",
   "metadata": {},
   "source": [
    "## 4. Regional Climate Comparison\n",
    "\n",
    "Compare climate patterns across different coffee growing regions."
   ]
  },
  {
   "cell_type": "code",
   "execution_count": null,
   "metadata": {},
   "outputs": [],
   "source": [
    "# Get average temperature by region over time\n",
    "plt.figure(figsize=(14, 8))\n",
    "\n",
    "for region in df['Region'].unique():\n",
    "    region_data = df[df['Region'] == region]\n",
    "    \n",
    "    # Group by year and month and calculate average temperature\n",
    "    temp_by_month = region_data.groupby(['Year', 'Month'])['temperature_C'].mean().reset_index()\n",
    "    # Create date from year and month for plotting\n",
    "    temp_by_month['Date'] = pd.to_datetime(temp_by_month[['Year', 'Month']].assign(day=1))\n",
    "    \n",
    "    plt.plot(temp_by_month['Date'], temp_by_month['temperature_C'], label=region)\n",
    "\n",
    "plt.title('Average Temperature by Region')\n",
    "plt.xlabel('Date')\n",
    "plt.ylabel('Temperature (°C)')\n",
    "plt.legend(loc='best')\n",
    "plt.grid(True)\n",
    "plt.tight_layout()\n",
    "plt.show()"
   ]
  },
  {
   "cell_type": "code",
   "execution_count": null,
   "metadata": {},
   "outputs": [],
   "source": [
    "# Seasonal patterns across regions - temperature by month\n",
    "plt.figure(figsize=(14, 8))\n",
    "\n",
    "for region in df['Region'].unique():\n",
    "    region_data = df[df['Region'] == region]\n",
    "    monthly_temp = region_data.groupby('Month')['temperature_C'].mean()\n",
    "    plt.plot(monthly_temp.index, monthly_temp.values, marker='o', linewidth=2, label=region)\n",
    "\n",
    "plt.title('Monthly Temperature Patterns by Region')\n",
    "plt.xlabel('Month')\n",
    "plt.ylabel('Average Temperature (°C)')\n",
    "plt.xticks(range(1, 13), ['Jan', 'Feb', 'Mar', 'Apr', 'May', 'Jun', 'Jul', 'Aug', 'Sep', 'Oct', 'Nov', 'Dec'])\n",
    "plt.legend(loc='best')\n",
    "plt.grid(True)\n",
    "plt.tight_layout()\n",
    "plt.show()"
   ]
  },
  {
   "cell_type": "markdown",
   "metadata": {},
   "source": [
    "## 5. Climate-Price Correlation Analysis\n",
    "\n",
    "Analyze the relationship between climate variables and coffee prices."
   ]
  },
  {
   "cell_type": "code",
   "execution_count": null,
   "metadata": {},
   "outputs": [],
   "source": [
    "# Calculate correlation between climate variables and coffee price\n",
    "correlation_columns = ['temperature_C', 'precip_m', 'Coffee_Price']\n",
    "if 'relative_humidity' in df.columns:\n",
    "    correlation_columns.append('relative_humidity')\n",
    "if 'temp_anomaly' in df.columns:\n",
    "    correlation_columns.extend(['temp_anomaly', 'precip_anomaly', 'drought_index'])\n",
    "\n",
    "correlations = {}\n",
    "for region in df['Region'].unique():\n",
    "    region_data = df[df['Region'] == region]\n",
    "    corr = region_data[correlation_columns].corr()\n",
    "    correlations[region] = corr['Coffee_Price'].drop('Coffee_Price')\n",
    "\n",
    "# Convert to DataFrame for easier viewing\n",
    "correlation_df = pd.DataFrame(correlations)\n",
    "correlation_df"
   ]
  },
  {
   "cell_type": "code",
   "execution_count": null,
   "metadata": {},
   "outputs": [],
   "source": [
    "# Visualize correlations\n",
    "plt.figure(figsize=(12, 8))\n",
    "sns.heatmap(correlation_df, annot=True, cmap='coolwarm', center=0, fmt='.2f')\n",
    "plt.title('Correlation between Climate Variables and Coffee Price')\n",
    "plt.tight_layout()\n",
    "plt.show()"
   ]
  },
  {
   "cell_type": "code",
   "execution_count": null,
   "metadata": {},
   "outputs": [],
   "source": [
    "# Scatter plot of coffee price vs. temperature anomaly for each region\n",
    "if 'temp_anomaly' in df.columns:\n",
    "    plt.figure(figsize=(16, 10))\n",
    "    \n",
    "    for i, region in enumerate(df['Region'].unique()):\n",
    "        plt.subplot(2, len(df['Region'].unique())//2 + len(df['Region'].unique())%2, i+1)\n",
    "        \n",
    "        region_data = df[df['Region'] == region]\n",
    "        plt.scatter(region_data['temp_anomaly'], region_data['Coffee_Price'], alpha=0.6)\n",
    "        \n",
    "        # Add trend line\n",
    "        z = np.polyfit(region_data['temp_anomaly'], region_data['Coffee_Price'], 1)\n",
    "        p = np.poly1d(z)\n",
    "        plt.plot(region_data['temp_anomaly'], p(region_data['temp_anomaly']), 'r--')\n",
    "        \n",
    "        plt.title(region)\n",
    "        plt.xlabel('Temperature Anomaly (°C)')\n",
    "        plt.ylabel('Coffee Price')\n",
    "        plt.grid(True)\n",
    "    \n",
    "    plt.tight_layout()\n",
    "    plt.show()"
   ]
  },
  {
   "cell_type": "markdown",
   "metadata": {},
   "source": [
    "## 6. Signature Kernel Analysis\n",
    "\n",
    "Analyze the climate signatures we calculated in the processing script."
   ]
  },
  {
   "cell_type": "code",
   "execution_count": null,
   "metadata": {},
   "outputs": [],
   "source": [
    "# Plot drought index over time for all regions\n",
    "if 'drought_index' in df.columns:\n",
    "    plt.figure(figsize=(14, 8))\n",
    "    \n",
    "    for region in df['Region'].unique():\n",
    "        region_data = df[df['Region'] == region]\n",
    "        plt.plot(region_data['Date'], region_data['drought_index'], label=region)\n",
    "    \n",
    "    plt.axhline(y=0, color='k', linestyle='--', alpha=0.3)\n",
    "    plt.title('Drought Index Over Time')\n",
    "    plt.xlabel('Date')\n",
    "    plt.ylabel('Drought Index')\n",
    "    plt.legend(loc='best')\n",
    "    plt.grid(True)\n",
    "    plt.tight_layout()\n",
    "    plt.show()"
   ]
  },
  {
   "cell_type": "code",
   "execution_count": null,
   "metadata": {},
   "outputs": [],
   "source": [
    "# Analyze impact of extreme climate events on coffee price\n",
    "if 'drought_index' in df.columns:\n",
    "    # Define extreme drought as drought_index < -1\n",
    "    df['extreme_drought'] = df['drought_index'] < -1\n",
    "    \n",
    "    # Calculate average coffee price during extreme drought vs. normal conditions\n",
    "    drought_impact = df.groupby(['Region', 'extreme_drought'])['Coffee_Price'].mean().unstack()\n",
    "    drought_impact.columns = ['Normal', 'Drought']\n",
    "    \n",
    "    # Calculate percent change\n",
    "    drought_impact['Percent Change'] = ((drought_impact['Drought'] - drought_impact['Normal']) / \n",
    "                                       drought_impact['Normal'] * 100)\n",
    "    \n",
    "    print(\"Impact of extreme drought on coffee prices:\")\n",
    "    drought_impact"
   ]
  },
  {
   "cell_type": "markdown",
   "metadata": {},
   "source": [
    "## 7. Advanced Time Series Analysis\n",
    "\n",
    "Let's look at lagged effects and seasonal decomposition."
   ]
  },
  {
   "cell_type": "code",
   "execution_count": null,
   "metadata": {},
   "outputs": [],
   "source": [
    "# Calculate lagged correlations (climate impacts price with a delay)\n",
    "from statsmodels.tsa.stattools import ccf\n",
    "\n",
    "region = df['Region'].unique()[0]  # Example with first region\n",
    "region_data = df[df['Region'] == region].sort_values('Date')\n",
    "\n",
    "# Create time series\n",
    "temp_series = region_data['temperature_C'].values\n",
    "price_series = region_data['Coffee_Price'].values\n",
    "\n",
    "# Calculate cross-correlation\n",
    "max_lag = 12  # Max 12 months lag\n",
    "cross_corr = ccf(temp_series, price_series, adjusted=False)[:max_lag+1]\n",
    "\n",
    "# Plot cross-correlation\n",
    "plt.figure(figsize=(10, 6))\n",
    "plt.stem(range(len(cross_corr)), cross_corr)\n",
    "plt.axhline(y=0, color='k', linestyle='-', alpha=0.3)\n",
    "plt.title(f'Cross-Correlation: Temperature → Coffee Price ({region})')\n",
    "plt.xlabel('Lag (months)')\n",
    "plt.ylabel('Correlation')\n",
    "plt.xticks(range(max_lag+1))\n",
    "plt.grid(True)\n",
    "plt.tight_layout()\n",
    "plt.show()\n",
    "\n",
    "# Find the lag with highest correlation\n",
    "max_corr_lag = np.argmax(np.abs(cross_corr))\n",
    "print(f\"Strongest correlation at lag {max_corr_lag} months: {cross_corr[max_corr_lag]:.4f}\")"
   ]
  },
  {
   "cell_type": "code",
   "execution_count": null,
   "metadata": {},
   "outputs": [],
   "source": [
    "# Seasonal decomposition of coffee price\n",
    "from statsmodels.tsa.seasonal import seasonal_decompose\n",
    "\n",
    "# Get unique dates and corresponding average coffee price\n",
    "price_ts = df.groupby('Date')['Coffee_Price'].mean()\n",
    "\n",
    "# Fill any gaps in the time series\n",
    "date_range = pd.date_range(start=price_ts.index.min(), end=price_ts.index.max(), freq='MS')\n",
    "price_ts = price_ts.reindex(date_range).interpolate()\n",
    "\n",
    "# Apply seasonal decomposition\n",
    "decomposition = seasonal_decompose(price_ts, model='additive', period=12)\n",
    "\n",
    "# Plot the decomposition\n",
    "fig, (ax1, ax2, ax3, ax4) = plt.subplots(4, 1, figsize=(14, 14), sharex=True)\n",
    "\n",
    "# Original\n",
    "ax1.plot(decomposition.observed)\n",
    "ax1.set_title('Original Coffee Price')\n",
    "ax1.grid(True)\n",
    "\n",
    "# Trend\n",
    "ax2.plot(decomposition.trend)\n",
    "ax2.set_title('Trend')\n",
    "ax2.grid(True)\n",
    "\n",
    "# Seasonal\n",
    "ax3.plot(decomposition.seasonal)\n",
    "ax3.set_title('Seasonality')\n",
    "ax3.grid(True)\n",
    "\n",
    "# Residual\n",
    "ax4.plot(decomposition.resid)\n",
    "ax4.set_title('Residuals')\n",
    "ax4.grid(True)\n",
    "\n",
    "plt.tight_layout()\n",
    "plt.show()"
   ]
  },
  {
   "cell_type": "markdown",
   "metadata": {},
   "source": [
    "## 8. Climate Change Impact Analysis\n",
    "\n",
    "Analyze how climate change might be affecting coffee growing regions."
   ]
  },
  {
   "cell_type": "code",
   "execution_count": null,
   "metadata": {},
   "outputs": [],
   "source": [
    "# Check for trends in temperature and precipitation over time\n",
    "for region in df['Region'].unique():\n",
    "    region_data = df[df['Region'] == region]\n",
    "    \n",
    "    # Group by year to see annual trends\n",
    "    annual_data = region_data.groupby('Year').agg({\n",
    "        'temperature_C': 'mean',\n",
    "        'precip_m': 'sum'\n",
    "    }).reset_index()\n",
    "    \n",
    "    # Create the plot\n",
    "    fig, (ax1, ax2) = plt.subplots(2, 1, figsize=(14, 10), sharex=True)\n",
    "    \n",
    "    # Temperature trend\n",
    "    ax1.plot(annual_data['Year'], annual_data['temperature_C'], marker='o', linewidth=2)\n",
    "    z1 = np.polyfit(annual_data['Year'], annual_data['temperature_C'], 1)\n",
    "    p1 = np.poly1d(z1)\n",
    "    ax1.plot(annual_data['Year'], p1(annual_data['Year']), 'r--')\n",
    "    ax1.set_title(f'Temperature Trend - {region}')\n",
    "    ax1.set_ylabel('Average Temperature (°C)')\n",
    "    ax1.grid(True)\n",
    "    \n",
    "    # Add trend info\n",
    "    trend_temp = z1[0] * 10  # Change per decade\n",
    "    ax1.text(0.05, 0.95, f'Trend: {trend_temp:.2f}°C per decade', \n",
    "             transform=ax1.transAxes, fontsize=12, \n",
    "             bbox=dict(facecolor='white', alpha=0.7))\n",
    "    \n",
    "    # Precipitation trend\n",
    "    ax2.plot(annual_data['Year'], annual_data['precip_m'], marker='o', linewidth=2)\n",
    "    z2 = np.polyfit(annual_data['Year'], annual_data['precip_m'], 1)\n",
    "    p2 = np.poly1d(z2)\n",
    "    ax2.plot(annual_data['Year'], p2(annual_data['Year']), 'r--')\n",
    "    ax2.set_title(f'Precipitation Trend - {region}')\n",
    "    ax2.set_xlabel('Year')\n",
    "    ax2.set_ylabel('Total Precipitation (m)')\n",
    "    ax2.grid(True)\n",
    "    \n",
    "    # Add trend info\n",
    "    trend_precip = z2[0] * 10 * 100  # Change per decade in cm\n",
    "    ax2.text(0.05, 0.95, f'Trend: {trend_precip:.2f} cm per decade', \n",
    "             transform=ax2.transAxes, fontsize=12,\n",
    "             bbox=dict(facecolor='white', alpha=0.7))\n",
    "    \n",
    "    plt.tight_layout()\n",
    "    plt.show()"
   ]
  },
  {
   "cell_type": "markdown",
   "metadata": {},
   "source": [
    "## 9. Conclusion and Key Findings\n",
    "\n",
    "Based on the analysis above, we can draw the following conclusions:\n",
    "\n",
    "1. **Climate-Price Relationships**: Summarize any significant correlations observed\n",
    "2. **Regional Differences**: Note how climate patterns differ across coffee growing regions\n",
    "3. **Time Lags**: Discuss any observed lag effects between climate changes and price responses\n",
    "4. **Climate Change Impacts**: Summarize temperature and precipitation trends\n",
    "5. **Extreme Events**: Discuss how drought or extreme temperature events affected prices\n",
    "\n",
    "## Next Steps\n",
    "\n",
    "1. Develop predictive models for coffee price based on climate variables\n",
    "2. Add more climate signature features (growing degree days, frost events, etc.)\n",
    "3. Investigate climate impacts on coffee quality, not just price\n",
    "4. Analyze how climate affects specific stages of coffee plant growth"
   ]
  }
 ],
 "metadata": {
  "kernelspec": {
   "display_name": "Python 3",
   "language": "python",
   "name": "python3"
  },
  "language_info": {
   "codemirror_mode": {
    "name": "ipython",
    "version": 3
   },
   "file_extension": ".py",
   "mimetype": "text/x-python",
   "name": "python",
   "nbconvert_exporter": "python",
   "pygments_lexer": "ipython3",
   "version": "3.9.6"
  }
 },
 "nbformat": 4,
 "nbformat_minor": 4
}