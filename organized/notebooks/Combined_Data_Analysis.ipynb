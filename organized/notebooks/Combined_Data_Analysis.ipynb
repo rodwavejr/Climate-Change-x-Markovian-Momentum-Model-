{
 "cells": [
  {
   "cell_type": "markdown",
   "metadata": {},
   "source": [
    "# Combined Commodity Climate Analysis\n",
    "\n",
    "This notebook demonstrates how to work with the combined commodity-climate dataset that contains data for multiple commodities and their growing regions in a single file.\n",
    "\n",
    "## Dataset Structure\n",
    "\n",
    "The combined dataset includes:\n",
    "- Commodity prices for 7 major agricultural commodities\n",
    "- Climate data for the primary growing region of each commodity\n",
    "- Climate signatures (temperature anomalies, drought indices, etc.)\n",
    "- Date information (Year, Month)\n",
    "\n",
    "This unified structure makes cross-commodity analysis much simpler."
   ]
  },
  {
   "cell_type": "code",
   "execution_count": null,
   "metadata": {},
   "outputs": [],
   "source": [
    "import pandas as pd\n",
    "import numpy as np\n",
    "import matplotlib.pyplot as plt\n",
    "import seaborn as sns\n",
    "from datetime import datetime\n",
    "import os\n",
    "\n",
    "# Set plot styling\n",
    "plt.style.use('seaborn-v0_8-whitegrid')\n",
    "sns.set_palette('viridis')\n",
    "\n",
    "# Set up plot parameters\n",
    "plt.rcParams['figure.figsize'] = (12, 6)\n",
    "plt.rcParams['font.size'] = 12\n",
    "\n",
    "# Ignore warnings\n",
    "import warnings\n",
    "warnings.filterwarnings('ignore')"
   ]
  },
  {
   "cell_type": "markdown",
   "metadata": {},
   "source": [
    "## 1. Load the Combined Dataset\n",
    "\n",
    "Let's load the combined dataset and explore its structure."
   ]
  },
  {
   "cell_type": "code",
   "execution_count": null,
   "metadata": {},
   "outputs": [],
   "source": [
    "# Load the combined dataset\n",
    "combined_file = \"all_commodities_combined.csv\"\n",
    "df = pd.read_csv(combined_file)\n",
    "df['Date'] = pd.to_datetime(df['Date'])\n",
    "\n",
    "# Display basic info\n",
    "print(f\"Loaded {len(df)} records from {df['Date'].min().strftime('%Y-%m')} to {df['Date'].max().strftime('%Y-%m')}\")\n",
    "print(f\"\\nDataset shape: {df.shape} (rows, columns)\")\n",
    "\n",
    "# Find price columns\n",
    "price_cols = [col for col in df.columns if col.endswith('_Price')]\n",
    "print(f\"\\nPrice columns: {price_cols}\")\n",
    "\n",
    "# Find region columns\n",
    "region_cols = [col for col in df.columns if col.endswith('_Region')]\n",
    "print(f\"\\nRegion columns: {region_cols}\")\n",
    "\n",
    "# Display the first few rows\n",
    "df.head()"
   ]
  },
  {
   "cell_type": "markdown",
   "metadata": {},
   "source": [
    "Let's also check the climate columns:"
   ]
  },
  {
   "cell_type": "code",
   "execution_count": null,
   "metadata": {},
   "outputs": [],
   "source": [
    "# Print climate-related columns\n",
    "date_cols = ['Date', 'Year', 'Month']\n",
    "non_climate_cols = date_cols + price_cols + region_cols\n",
    "climate_cols = [col for col in df.columns if col not in non_climate_cols]\n",
    "\n",
    "print(\"Climate-related columns:\")\n",
    "for col in climate_cols:\n",
    "    print(f\"- {col}\")"
   ]
  },
  {
   "cell_type": "markdown",
   "metadata": {},
   "source": [
    "## 2. Analyze Price Trends\n",
    "\n",
    "Now let's plot all commodity prices on a single chart with normalized values for easier comparison."
   ]
  },
  {
   "cell_type": "code",
   "execution_count": null,
   "metadata": {},
   "outputs": [],
   "source": [
    "# Create a DataFrame for normalized prices\n",
    "norm_prices = pd.DataFrame({'Date': df['Date']})\n",
    "\n",
    "# Normalize each price series (first value = 100)\n",
    "for price_col in price_cols:\n",
    "    commodity = price_col.split('_')[0]\n",
    "    first_price = df[price_col].iloc[0]\n",
    "    norm_prices[commodity] = df[price_col] / first_price * 100\n",
    "\n",
    "# Plot normalized prices\n",
    "plt.figure(figsize=(14, 8))\n",
    "\n",
    "for commodity in norm_prices.columns:\n",
    "    if commodity != 'Date':\n",
    "        plt.plot(norm_prices['Date'], norm_prices[commodity], linewidth=2, label=commodity)\n",
    "\n",
    "plt.title('Normalized Commodity Prices (2015-2022)', fontsize=14)\n",
    "plt.xlabel('Date')\n",
    "plt.ylabel('Price Index (First Month = 100)')\n",
    "plt.legend(loc='best')\n",
    "plt.grid(True, alpha=0.3)\n",
    "plt.tight_layout()\n",
    "plt.show()"
   ]
  },
  {
   "cell_type": "markdown",
   "metadata": {},
   "source": [
    "## 3. Compare Price Correlations\n",
    "\n",
    "Let's analyze how different commodity prices correlate with each other."
   ]
  },
  {
   "cell_type": "code",
   "execution_count": null,
   "metadata": {},
   "outputs": [],
   "source": [
    "# Calculate price correlations\n",
    "price_corr = df[price_cols].corr()\n",
    "\n",
    "# Rename for better display\n",
    "price_corr.columns = [col.split('_')[0] for col in price_corr.columns]\n",
    "price_corr.index = [idx.split('_')[0] for idx in price_corr.index]\n",
    "\n",
    "# Visualize correlations\n",
    "plt.figure(figsize=(10, 8))\n",
    "sns.heatmap(price_corr, annot=True, cmap='coolwarm', center=0, fmt='.2f')\n",
    "plt.title('Correlation Between Commodity Prices', fontsize=14)\n",
    "plt.tight_layout()\n",
    "plt.show()"
   ]
  },
  {
   "cell_type": "markdown",
   "metadata": {},
   "source": [
    "## 4. Cross-Commodity Climate Analysis\n",
    "\n",
    "Let's analyze how climate variables from one region correlate with prices of various commodities."
   ]
  },
  {
   "cell_type": "code",
   "execution_count": null,
   "metadata": {},
   "outputs": [],
   "source": [
    "# Find a good climate column - temperature should be available for all regions\n",
    "temp_col = next((col for col in climate_cols if 'temperature' in col.lower()), None)\n",
    "precip_col = next((col for col in climate_cols if 'precip' in col.lower()), None)\n",
    "drought_col = next((col for col in climate_cols if 'drought' in col.lower()), None)\n",
    "\n",
    "# Create correlation matrix between climate variables and commodity prices\n",
    "climate_price_corr = pd.DataFrame()\n",
    "\n",
    "climate_vars = [temp_col, precip_col, drought_col]\n",
    "climate_vars = [var for var in climate_vars if var is not None]\n",
    "\n",
    "for var in climate_vars:\n",
    "    corr_values = {}\n",
    "    for price_col in price_cols:\n",
    "        commodity = price_col.split('_')[0]\n",
    "        correlation = df[var].corr(df[price_col])\n",
    "        corr_values[commodity] = correlation\n",
    "    \n",
    "    climate_price_corr[var] = pd.Series(corr_values)\n",
    "\n",
    "# Visualize climate-price correlations\n",
    "plt.figure(figsize=(12, 8))\n",
    "sns.heatmap(climate_price_corr, annot=True, cmap='coolwarm', center=0, fmt='.2f')\n",
    "plt.title('Climate Variable Correlations with Commodity Prices', fontsize=14)\n",
    "plt.tight_layout()\n",
    "plt.show()"
   ]
  },
  {
   "cell_type": "markdown",
   "metadata": {},
   "source": [
    "## 5. Seasonal Price Analysis\n",
    "\n",
    "Let's analyze seasonal patterns in all commodity prices."
   ]
  },
  {
   "cell_type": "code",
   "execution_count": null,
   "metadata": {},
   "outputs": [],
   "source": [
    "# Plot seasonal price patterns for each commodity\n",
    "plt.figure(figsize=(14, 8))\n",
    "\n",
    "for price_col in price_cols:\n",
    "    commodity = price_col.split('_')[0]\n",
    "    \n",
    "    # Calculate monthly averages\n",
    "    monthly_avg = df.groupby('Month')[price_col].mean()\n",
    "    \n",
    "    # Normalize to percentage deviation from annual mean\n",
    "    annual_mean = monthly_avg.mean()\n",
    "    normalized_monthly = (monthly_avg / annual_mean - 1) * 100\n",
    "    \n",
    "    # Plot seasonal pattern\n",
    "    plt.plot(normalized_monthly.index, normalized_monthly.values,\n",
    "             marker='o', linewidth=2, label=commodity)\n",
    "    \n",
    "plt.title('Seasonal Price Patterns by Commodity', fontsize=14)\n",
    "plt.xlabel('Month')\n",
    "plt.ylabel('% Deviation from Annual Mean')\n",
    "plt.xticks(range(1, 13), ['Jan', 'Feb', 'Mar', 'Apr', 'May', 'Jun',\n",
    "                         'Jul', 'Aug', 'Sep', 'Oct', 'Nov', 'Dec'])\n",
    "plt.axhline(y=0, color='black', linestyle='-', alpha=0.3)\n",
    "plt.legend(loc='best')\n",
    "plt.grid(True, alpha=0.3)\n",
    "plt.tight_layout()\n",
    "plt.show()"
   ]
  },
  {
   "cell_type": "markdown",
   "metadata": {},
   "source": [
    "## 6. Temperature Sensitivity Analysis\n",
    "\n",
    "Let's analyze how sensitive different commodities are to temperature changes."
   ]
  },
  {
   "cell_type": "code",
   "execution_count": null,
   "metadata": {},
   "outputs": [],
   "source": [
    "# Only run if we have a temperature column\n",
    "if temp_col is not None:\n",
    "    # Create a multi-panel figure\n",
    "    fig, axes = plt.subplots(3, 3, figsize=(18, 14))\n",
    "    axes = axes.flatten()\n",
    "    \n",
    "    # Scatter plot for each commodity\n",
    "    for i, price_col in enumerate(price_cols):\n",
    "        if i < len(axes):\n",
    "            commodity = price_col.split('_')[0]\n",
    "            ax = axes[i]\n",
    "            \n",
    "            # Scatter plot\n",
    "            ax.scatter(df[temp_col], df[price_col], alpha=0.6)\n",
    "            \n",
    "            # Add trend line\n",
    "            z = np.polyfit(df[temp_col], df[price_col], 1)\n",
    "            p = np.poly1d(z)\n",
    "            x_range = np.linspace(df[temp_col].min(), df[temp_col].max(), 100)\n",
    "            ax.plot(x_range, p(x_range), 'r--')\n",
    "            \n",
    "            # Add correlation coefficient\n",
    "            corr = df[temp_col].corr(df[price_col])\n",
    "            ax.text(0.05, 0.95, f\"Correlation: {corr:.2f}\",\n",
    "                   transform=ax.transAxes, fontsize=12,\n",
    "                   bbox=dict(facecolor='white', alpha=0.7))\n",
    "            \n",
    "            ax.set_title(f'{commodity}: Price vs. Temperature')\n",
    "            ax.set_xlabel('Temperature (°C)')\n",
    "            ax.set_ylabel(f'Price')\n",
    "            ax.grid(True, alpha=0.3)\n",
    "    \n",
    "    # Hide any unused subplots\n",
    "    for j in range(i+1, len(axes)):\n",
    "        axes[j].set_visible(False)\n",
    "    \n",
    "    plt.tight_layout()\n",
    "    plt.suptitle('Temperature Sensitivity by Commodity', fontsize=20, y=1.02)\n",
    "    plt.show()"
   ]
  },
  {
   "cell_type": "markdown",
   "metadata": {},
   "source": [
    "## 7. Commodity Price Clustering\n",
    "\n",
    "Let's use clustering to identify commodities that behave similarly in terms of price movements."
   ]
  },
  {
   "cell_type": "code",
   "execution_count": null,
   "metadata": {},
   "outputs": [],
   "source": [
    "from sklearn.preprocessing import StandardScaler\n",
    "from sklearn.cluster import KMeans\n",
    "from sklearn.decomposition import PCA\n",
    "\n",
    "# Prepare data for clustering\n",
    "price_data = df[price_cols].copy()\n",
    "\n",
    "# Standardize the data\n",
    "scaler = StandardScaler()\n",
    "price_scaled = scaler.fit_transform(price_data)\n",
    "\n",
    "# Reduce dimensions with PCA\n",
    "pca = PCA(n_components=2)\n",
    "price_pca = pca.fit_transform(price_scaled)\n",
    "\n",
    "# Cluster the commodities\n",
    "kmeans = KMeans(n_clusters=3, random_state=42)\n",
    "clusters = kmeans.fit_predict(price_scaled)\n",
    "\n",
    "# Create a DataFrame with PCA results\n",
    "pca_df = pd.DataFrame(price_pca, columns=['Component 1', 'Component 2'])\n",
    "pca_df['Commodity'] = [col.split('_')[0] for col in price_cols]\n",
    "pca_df['Cluster'] = clusters\n",
    "\n",
    "# Plot the clusters\n",
    "plt.figure(figsize=(12, 8))\n",
    "for cluster in pca_df['Cluster'].unique():\n",
    "    cluster_data = pca_df[pca_df['Cluster'] == cluster]\n",
    "    plt.scatter(cluster_data['Component 1'], cluster_data['Component 2'], label=f'Cluster {cluster}', s=100)\n",
    "\n",
    "# Add commodity labels\n",
    "for i, row in pca_df.iterrows():\n",
    "    plt.annotate(row['Commodity'], \n",
    "                 (row['Component 1'], row['Component 2']),\n",
    "                 xytext=(5, 5), textcoords='offset points',\n",
    "                 fontsize=12, fontweight='bold')\n",
    "\n",
    "plt.title('Commodity Price Pattern Clustering', fontsize=14)\n",
    "plt.xlabel('Principal Component 1')\n",
    "plt.ylabel('Principal Component 2')\n",
    "plt.legend()\n",
    "plt.grid(True, alpha=0.3)\n",
    "plt.tight_layout()\n",
    "plt.show()\n",
    "\n",
    "# Print cluster memberships\n",
    "for cluster in pca_df['Cluster'].unique():\n",
    "    commodities = pca_df[pca_df['Cluster'] == cluster]['Commodity'].tolist()\n",
    "    print(f\"Cluster {cluster}: {', '.join(commodities)}\")"
   ]
  },
  {
   "cell_type": "markdown",
   "metadata": {},
   "source": [
    "## 8. Climate and Price Volatility Analysis\n",
    "\n",
    "Let's analyze how climate variables relate to price volatility for different commodities."
   ]
  },
  {
   "cell_type": "code",
   "execution_count": null,
   "metadata": {},
   "outputs": [],
   "source": [
    "# Calculate rolling volatility (standard deviation) for each commodity price\n",
    "volatility_df = pd.DataFrame({'Date': df['Date']})\n",
    "\n",
    "window = 3  # 3-month rolling window\n",
    "for price_col in price_cols:\n",
    "    commodity = price_col.split('_')[0]\n",
    "    # Calculate percent changes\n",
    "    price_pct_change = df[price_col].pct_change()\n",
    "    # Calculate rolling std dev of percent changes\n",
    "    volatility = price_pct_change.rolling(window=window).std() * 100  # Scale to percentage\n",
    "    volatility_df[f'{commodity}_Volatility'] = volatility\n",
    "\n",
    "# Add climate variables\n",
    "for var in climate_vars:\n",
    "    volatility_df[var] = df[var]\n",
    "\n",
    "# Drop rows with NaN due to rolling window\n",
    "volatility_df = volatility_df.dropna()\n",
    "\n",
    "# Calculate correlations between climate variables and price volatility\n",
    "volatility_cols = [col for col in volatility_df.columns if '_Volatility' in col]\n",
    "climate_volatility_corr = pd.DataFrame()\n",
    "\n",
    "for var in climate_vars:\n",
    "    corr_values = {}\n",
    "    for vol_col in volatility_cols:\n",
    "        commodity = vol_col.split('_')[0]\n",
    "        correlation = volatility_df[var].corr(volatility_df[vol_col])\n",
    "        corr_values[commodity] = correlation\n",
    "    \n",
    "    climate_volatility_corr[var] = pd.Series(corr_values)\n",
    "\n",
    "# Visualize climate-volatility correlations\n",
    "plt.figure(figsize=(12, 8))\n",
    "sns.heatmap(climate_volatility_corr, annot=True, cmap='coolwarm', center=0, fmt='.2f')\n",
    "plt.title('Climate Variable Correlations with Price Volatility', fontsize=14)\n",
    "plt.tight_layout()\n",
    "plt.show()"
   ]
  },
  {
   "cell_type": "markdown",
   "metadata": {},
   "source": [
    "## 9. Conclusions\n",
    "\n",
    "From our combined analysis of multiple commodity data, we can conclude:\n",
    "\n",
    "1. **Price Correlations**: Certain groups of commodities show similar price patterns, suggesting common drivers\n",
    "\n",
    "2. **Climate Sensitivity**: Different commodities show varying degrees of sensitivity to temperature, precipitation, and drought conditions\n",
    "\n",
    "3. **Seasonal Patterns**: Each commodity has its own distinct seasonal price pattern, often related to growing seasons\n",
    "\n",
    "4. **Climate-Price Relationships**: Climate variables from one region can correlate with prices of various commodities, showing the interconnected nature of global agricultural markets\n",
    "\n",
    "5. **Volatility Factors**: Climate conditions correlate with price volatility, suggesting that climate stability (or instability) affects market stability for agricultural commodities\n",
    "\n",
    "This combined dataset provides a powerful tool for further analysis, including predictive modeling of price movements based on climate conditions."
   ]
  }
 ],
 "metadata": {
  "kernelspec": {
   "display_name": "Python 3",
   "language": "python",
   "name": "python3"
  },
  "language_info": {
   "codemirror_mode": {
    "name": "ipython",
    "version": 3
   },
   "file_extension": ".py",
   "mimetype": "text/x-python",
   "name": "python",
   "nbconvert_exporter": "python",
   "pygments_lexer": "ipython3",
   "version": "3.9.6"
  }
 },
 "nbformat": 4,
 "nbformat_minor": 4
}